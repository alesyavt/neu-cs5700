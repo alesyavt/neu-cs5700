{
 "cells": [
  {
   "cell_type": "markdown",
   "metadata": {},
   "source": [
    "## String vs. Bytes"
   ]
  },
  {
   "cell_type": "markdown",
   "metadata": {},
   "source": [
    "Text in Python 3 is always Unicode and is represented by the **str** type, and binary data is represented by the **bytes** type. They cannot be mixed.\n",
    "\n",
    "Strings can be **encoded** to bytes, and bytes can be **decoded** back to strings."
   ]
  },
  {
   "cell_type": "code",
   "execution_count": 1,
   "metadata": {},
   "outputs": [
    {
     "name": "stdout",
     "output_type": "stream",
     "text": [
      "Hello world!\n",
      "length is 12\n"
     ]
    }
   ],
   "source": [
    "s = 'Hello world!'\n",
    "print(s)\n",
    "print(\"length is\", len(s))"
   ]
  },
  {
   "cell_type": "code",
   "execution_count": 2,
   "metadata": {},
   "outputs": [
    {
     "name": "stdout",
     "output_type": "stream",
     "text": [
      "Hello 世界!\n",
      "length is 9\n"
     ]
    }
   ],
   "source": [
    "us = 'Hello 世界!'\n",
    "print(us)\n",
    "print(\"length is\", len(us))"
   ]
  },
  {
   "cell_type": "markdown",
   "metadata": {},
   "source": [
    "Now encode both strings to bytes."
   ]
  },
  {
   "cell_type": "code",
   "execution_count": 3,
   "metadata": {},
   "outputs": [
    {
     "name": "stdout",
     "output_type": "stream",
     "text": [
      "b'Hello world!'\n",
      "length is 12\n"
     ]
    }
   ],
   "source": [
    "bs = s.encode('utf-8')\n",
    "print(bs)\n",
    "print(\"length is\", len(bs))"
   ]
  },
  {
   "cell_type": "code",
   "execution_count": 4,
   "metadata": {},
   "outputs": [
    {
     "name": "stdout",
     "output_type": "stream",
     "text": [
      "b'Hello \\xe4\\xb8\\x96\\xe7\\x95\\x8c!'\n",
      "length is 13\n"
     ]
    }
   ],
   "source": [
    "bus = us.encode('utf-8')\n",
    "print(bus)\n",
    "print(\"length is\", len(bus))"
   ]
  },
  {
   "cell_type": "markdown",
   "metadata": {},
   "source": [
    "Decode back to strings."
   ]
  },
  {
   "cell_type": "code",
   "execution_count": 5,
   "metadata": {},
   "outputs": [
    {
     "name": "stdout",
     "output_type": "stream",
     "text": [
      "Hello world!\n",
      "Hello 世界!\n"
     ]
    }
   ],
   "source": [
    "print(bs.decode('utf-8'))\n",
    "print(bus.decode('utf-8'))"
   ]
  },
  {
   "cell_type": "markdown",
   "metadata": {},
   "source": [
    "## Big Endian vs Little Endian"
   ]
  },
  {
   "cell_type": "code",
   "execution_count": 6,
   "metadata": {},
   "outputs": [
    {
     "name": "stdout",
     "output_type": "stream",
     "text": [
      "b'\\x01\\x02'\n",
      "b'\\x02\\x01'\n",
      "b'\\x00\\x00\\x01\\x02'\n",
      "b'\\x02\\x01\\x00\\x00'\n"
     ]
    }
   ],
   "source": [
    "num = 258\n",
    "print(num.to_bytes(2, \"big\"))\n",
    "print(num.to_bytes(2, \"little\"))\n",
    "\n",
    "print(num.to_bytes(4, \"big\"))\n",
    "print(num.to_bytes(4, \"little\"))"
   ]
  },
  {
   "cell_type": "markdown",
   "metadata": {},
   "source": [
    "## struct package\n",
    "\n",
    "This module performs conversions between Python values and C structs represented as Python bytes objects."
   ]
  },
  {
   "cell_type": "code",
   "execution_count": 7,
   "metadata": {
    "collapsed": true
   },
   "outputs": [],
   "source": [
    "import struct"
   ]
  },
  {
   "cell_type": "markdown",
   "metadata": {},
   "source": [
    "### struct.pack(fmt, v1, v2, …)\n",
    "Return a bytes object containing the values v1, v2, … packed according to the format string fmt. The arguments must match the values required by the format exactly.\n",
    "\n",
    "1. **\"!\"** means network endianess (big endian)\n",
    "2. **\"<\"** means little endian\n",
    "3. **\">\"** means big endian\n",
    "4. **\"=\"** means native\n",
    "5. **\"h\"** measn short integer (2 bytes)"
   ]
  },
  {
   "cell_type": "code",
   "execution_count": 8,
   "metadata": {},
   "outputs": [
    {
     "name": "stdout",
     "output_type": "stream",
     "text": [
      "Network endianess\n",
      "b'\\x01\\x00'\n",
      "Little endian\n",
      "b'\\x00\\x01'\n",
      "Big endian\n",
      "b'\\x01\\x00'\n",
      "Native endianess\n",
      "b'\\x00\\x01'\n"
     ]
    }
   ],
   "source": [
    "x = 256\n",
    "\n",
    "print(\"Network endianess\")\n",
    "print(struct.pack('!h', x))\n",
    "\n",
    "print(\"Little endian\")\n",
    "print(struct.pack('<h', x))\n",
    "\n",
    "print(\"Big endian\")\n",
    "print(struct.pack('>h', x))\n",
    "\n",
    "print(\"Native endianess\")\n",
    "print(struct.pack('=h', x))"
   ]
  },
  {
   "cell_type": "markdown",
   "metadata": {},
   "source": [
    "### struct.unpack(fmt, buffer)\n",
    "Unpack from the buffer buffer (presumably packed by pack(fmt, ...)) according to the format string fmt. The result is a tuple even if it contains exactly one item. The buffer’s size in bytes must match the size required by the format,"
   ]
  },
  {
   "cell_type": "code",
   "execution_count": 9,
   "metadata": {},
   "outputs": [
    {
     "name": "stdout",
     "output_type": "stream",
     "text": [
      "(256,)\n",
      "(1,)\n"
     ]
    }
   ],
   "source": [
    "bx = struct.pack('!h', x)\n",
    "\n",
    "print(struct.unpack('!h', bx))\n",
    "print(struct.unpack('<h', bx))"
   ]
  },
  {
   "cell_type": "code",
   "execution_count": 10,
   "metadata": {},
   "outputs": [
    {
     "name": "stdout",
     "output_type": "stream",
     "text": [
      "256\n",
      "1\n"
     ]
    }
   ],
   "source": [
    "print(struct.unpack('!h', bx)[0])\n",
    "print(struct.unpack('<h', bx)[0])"
   ]
  }
 ],
 "metadata": {
  "kernelspec": {
   "display_name": "Python 3",
   "language": "python",
   "name": "python3"
  },
  "language_info": {
   "codemirror_mode": {
    "name": "ipython",
    "version": 3
   },
   "file_extension": ".py",
   "mimetype": "text/x-python",
   "name": "python",
   "nbconvert_exporter": "python",
   "pygments_lexer": "ipython3",
   "version": "3.6.1"
  }
 },
 "nbformat": 4,
 "nbformat_minor": 2
}
